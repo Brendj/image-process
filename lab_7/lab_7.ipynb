{
 "cells": [
  {
   "cell_type": "code",
   "execution_count": 1,
   "id": "078a0427-a98a-43f8-97a3-6df2a171290c",
   "metadata": {},
   "outputs": [],
   "source": [
    "import cv2\n",
    "\n",
    "def find_and_highlight_small_image(big_image_path, small_image_path, output_path):\n",
    "\n",
    "    big_image = cv2.imread(big_image_path)\n",
    "    small_image = cv2.imread(small_image_path)\n",
    "\n",
    "    # Нахождение малой картинки на большой\n",
    "    result = cv2.matchTemplate(big_image, small_image, cv2.TM_CCOEFF_NORMED)\n",
    "    _, _, _, max_loc = cv2.minMaxLoc(result)\n",
    "\n",
    "    # Выделение распознанной области на большой картинке\n",
    "    small_image_height, small_image_width = small_image.shape[:2]\n",
    "    top_left = max_loc\n",
    "    bottom_right = (top_left[0] + small_image_width, top_left[1] + small_image_height)\n",
    "    cv2.rectangle(big_image, top_left, bottom_right, (0, 0, 255), 2)\n",
    "\n",
    "    # Сохранение результата\n",
    "    cv2.imwrite(output_path, big_image)\n",
    "\n",
    "big_image_path = 'start.jpg'\n",
    "small_image_path = 'obj.jpg'\n",
    "output_path = 'output_image.jpg'\n",
    "find_and_highlight_small_image(big_image_path, small_image_path, output_path)"
   ]
  },
  {
   "cell_type": "code",
   "execution_count": null,
   "id": "7f874e64-cca5-4149-a8d0-93bd9d03075a",
   "metadata": {},
   "outputs": [],
   "source": []
  }
 ],
 "metadata": {
  "kernelspec": {
   "display_name": "Python 3 (ipykernel)",
   "language": "python",
   "name": "python3"
  },
  "language_info": {
   "codemirror_mode": {
    "name": "ipython",
    "version": 3
   },
   "file_extension": ".py",
   "mimetype": "text/x-python",
   "name": "python",
   "nbconvert_exporter": "python",
   "pygments_lexer": "ipython3",
   "version": "3.8.10"
  }
 },
 "nbformat": 4,
 "nbformat_minor": 5
}
